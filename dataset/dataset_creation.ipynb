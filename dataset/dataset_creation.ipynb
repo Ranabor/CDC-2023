{
 "cells": [
  {
   "cell_type": "code",
   "execution_count": 14,
   "metadata": {},
   "outputs": [],
   "source": [
    "#imports\n",
    "from authorization import get_auth_header, get_token\n",
    "from requests import get\n",
    "import json\n",
    "import pandas as pd"
   ]
  },
  {
   "cell_type": "markdown",
   "metadata": {},
   "source": [
    "https://prod.liveshare.vsengsaas.visualstudio.com/join?08C2D31C296BBDC434B7DAF929AA8A622E71"
   ]
  },
  {
   "cell_type": "code",
   "execution_count": 15,
   "metadata": {},
   "outputs": [],
   "source": [
    "#write a function to get the top 20 artists in the pop genre using the spotify api example\n",
    "def get_top_artists():\n",
    "    #get the token\n",
    "    token = get_token()\n",
    "    #get the header\n",
    "    header = get_auth_header(token)\n",
    "    #get the url\n",
    "    url = \"https://api.spotify.com/v1/search?q=genre:%22pop%22&type=artist&limit=20\"\n",
    "    #get the response\n",
    "    response = get(url, headers=header)\n",
    "    #convert to json\n",
    "    json_response = response.json()\n",
    "    #get the artists\n",
    "    artists = json_response['artists']['items']\n",
    "    #return the artists\n",
    "    return artists"
   ]
  },
  {
   "cell_type": "code",
   "execution_count": null,
   "metadata": {},
   "outputs": [],
   "source": [
    "def get_song_from_playlist(playlist):\n",
    "    token = get_token()\n",
    "    header = get_auth_header(token)\n",
    "    url = \"https://api.spotify.com/v1/playlists/\" + playlist + \"/tracks?market=US&limit=100&offset=100\"\n",
    "    response = get(url, headers=header)\n",
    "    json_response = response.json()\n",
    "    songs = json_response['items']\n",
    "    df1 = pd.json_normalize(songs) #created dataframe with all data/columns\n",
    "    df2 = df1[['track.uri', \"track.name\"]] #creates anotehr df with only the track names\n",
    "    df2['track.uri'] = df2['track.uri'].str.replace(\"spotify:track:\", \"\")\n",
    "    return df2 #pd.DataFrame(df2) #return df with track names"
   ]
  },
  {
   "cell_type": "code",
   "execution_count": 17,
   "metadata": {},
   "outputs": [
    {
     "ename": "NameError",
     "evalue": "name 'get_song_from_playlist' is not defined",
     "output_type": "error",
     "traceback": [
      "\u001b[1;31m---------------------------------------------------------------------------\u001b[0m",
      "\u001b[1;31mNameError\u001b[0m                                 Traceback (most recent call last)",
      "\u001b[1;32mc:\\Users\\admin\\CDC-2023\\dataset_creation.ipynb Cell 6\u001b[0m line \u001b[0;36m7\n\u001b[0;32m      <a href='vscode-notebook-cell:/c%3A/Users/admin/CDC-2023/dataset_creation.ipynb#W6sZmlsZQ%3D%3D?line=4'>5</a>\u001b[0m songs_list \u001b[39m=\u001b[39m pd\u001b[39m.\u001b[39mDataFrame()\n\u001b[0;32m      <a href='vscode-notebook-cell:/c%3A/Users/admin/CDC-2023/dataset_creation.ipynb#W6sZmlsZQ%3D%3D?line=5'>6</a>\u001b[0m \u001b[39mfor\u001b[39;00m i \u001b[39min\u001b[39;00m \u001b[39mrange\u001b[39m (\u001b[39mlen\u001b[39m(playlist_ids)):\n\u001b[1;32m----> <a href='vscode-notebook-cell:/c%3A/Users/admin/CDC-2023/dataset_creation.ipynb#W6sZmlsZQ%3D%3D?line=6'>7</a>\u001b[0m     playlist_songs \u001b[39m=\u001b[39m get_song_from_playlist(playlist_ids[i])\n\u001b[0;32m      <a href='vscode-notebook-cell:/c%3A/Users/admin/CDC-2023/dataset_creation.ipynb#W6sZmlsZQ%3D%3D?line=7'>8</a>\u001b[0m     songs_list \u001b[39m=\u001b[39m pd\u001b[39m.\u001b[39mconcat([songs_list, playlist_songs])\n\u001b[0;32m      <a href='vscode-notebook-cell:/c%3A/Users/admin/CDC-2023/dataset_creation.ipynb#W6sZmlsZQ%3D%3D?line=8'>9</a>\u001b[0m songs_list \u001b[39m=\u001b[39m songs_list\u001b[39m.\u001b[39mdrop_duplicates()\n",
      "\u001b[1;31mNameError\u001b[0m: name 'get_song_from_playlist' is not defined"
     ]
    }
   ],
   "source": [
    "playlist_ids = [\"37i9dQZF1DX7e8TjkFNKWH\", \"4vKtucORuHzl3bhnUWMMbq\", \"54nOF0dt7yuHMBK1cLjFCk\",\n",
    "                  \"1q4yqfWq8DQ9k8xvpwjSGb\", \"66bd2w90q5RXlfUnTIF1W3\", \"2Hy1V8q07RL4ygQtatadve\", \n",
    "                  \"33P9WHZFJArsEEb0q8zwJD\", \"3EoStzWMnc93ktTEZYsSD4\", \"5KlUhhSR7sZOdl8Hxy3Guz\", \n",
    "                  \"6ebBexShOwJOfK9UIdzNIm\",]\n",
    "songs_list = pd.DataFrame()\n",
    "for i in range (len(playlist_ids)):\n",
    "    playlist_songs = get_song_from_playlist(playlist_ids[i])\n",
    "    songs_list = pd.concat([songs_list, playlist_songs])\n",
    "songs_list = songs_list.drop_duplicates()\n",
    "songs_list\n",
    "songs_list.to_csv('songs_list.csv', index=False)"
   ]
  },
  {
   "cell_type": "markdown",
   "metadata": {},
   "source": [
    "Non Bangers - 1. convert all songs into respectove artists 2. get genres of all artist and track frequency \n",
    "3. most frquent genres, get most sample of regular songs, 4. do analysis on those songs"
   ]
  },
  {
   "cell_type": "code",
   "execution_count": 26,
   "metadata": {},
   "outputs": [
    {
     "data": {
      "text/plain": [
       "['dance pop', 'pop']"
      ]
     },
     "execution_count": 26,
     "metadata": {},
     "output_type": "execute_result"
    }
   ],
   "source": [
    "def get_artist_from_song(song):\n",
    "    header = get_auth_header()\n",
    "    url = f\"https://api.spotify.com/v1/tracks/{song}\"\n",
    "    response = get(url, headers=header)\n",
    "    #print(response.text)\n",
    "    json_response = response.json()\n",
    "    artist_id = json_response['artists'][0]['uri']\n",
    "    artist_id = artist_id.replace(\"spotify:artist:\", \"\")\n",
    "    return artist_id \n",
    "\n",
    "def get_genre_from_artist(artist):\n",
    "    header = get_auth_header()\n",
    "    url = f\"https://api.spotify.com/v1/artists/{artist}\"\n",
    "    response = get(url, headers=header)\n",
    "    #print(response.text)\n",
    "    json_response = response.json()\n",
    "    genres = json_response['genres']\n",
    "    return genres \n",
    "\n",
    "\n",
    "\n",
    "get_genre_from_artist(get_artist_from_song(\"4KTtYhxFtFL7mBwnjkKfLm\"))\n"
   ]
  },
  {
   "cell_type": "code",
   "execution_count": null,
   "metadata": {},
   "outputs": [],
   "source": []
  }
 ],
 "metadata": {
  "kernelspec": {
   "display_name": "base",
   "language": "python",
   "name": "python3"
  },
  "language_info": {
   "codemirror_mode": {
    "name": "ipython",
    "version": 3
   },
   "file_extension": ".py",
   "mimetype": "text/x-python",
   "name": "python",
   "nbconvert_exporter": "python",
   "pygments_lexer": "ipython3",
   "version": "3.11.1"
  },
  "orig_nbformat": 4
 },
 "nbformat": 4,
 "nbformat_minor": 2
}
