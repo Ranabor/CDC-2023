{
 "cells": [
  {
   "cell_type": "code",
   "execution_count": 1,
   "metadata": {},
   "outputs": [
    {
     "ename": "ModuleNotFoundError",
     "evalue": "No module named 'authorization'",
     "output_type": "error",
     "traceback": [
      "\u001b[1;31m---------------------------------------------------------------------------\u001b[0m",
      "\u001b[1;31mModuleNotFoundError\u001b[0m                       Traceback (most recent call last)",
      "\u001b[1;32mc:\\Users\\reddy\\Documents\\Rishi\\School\\UNC\\Fall 2023\\CDC\\CDC-2023\\dataset\\dataset_creation.ipynb Cell 1\u001b[0m line \u001b[0;36m<cell line: 2>\u001b[1;34m()\u001b[0m\n\u001b[0;32m      <a href='vscode-notebook-cell:/c%3A/Users/reddy/Documents/Rishi/School/UNC/Fall%202023/CDC/CDC-2023/dataset/dataset_creation.ipynb#W0sZmlsZQ%3D%3D?line=0'>1</a>\u001b[0m \u001b[39m#imports\u001b[39;00m\n\u001b[1;32m----> <a href='vscode-notebook-cell:/c%3A/Users/reddy/Documents/Rishi/School/UNC/Fall%202023/CDC/CDC-2023/dataset/dataset_creation.ipynb#W0sZmlsZQ%3D%3D?line=1'>2</a>\u001b[0m \u001b[39mfrom\u001b[39;00m \u001b[39mauthorization\u001b[39;00m \u001b[39mimport\u001b[39;00m get_auth_header, get_token\n\u001b[0;32m      <a href='vscode-notebook-cell:/c%3A/Users/reddy/Documents/Rishi/School/UNC/Fall%202023/CDC/CDC-2023/dataset/dataset_creation.ipynb#W0sZmlsZQ%3D%3D?line=2'>3</a>\u001b[0m \u001b[39mfrom\u001b[39;00m \u001b[39mrequests\u001b[39;00m \u001b[39mimport\u001b[39;00m get\n\u001b[0;32m      <a href='vscode-notebook-cell:/c%3A/Users/reddy/Documents/Rishi/School/UNC/Fall%202023/CDC/CDC-2023/dataset/dataset_creation.ipynb#W0sZmlsZQ%3D%3D?line=3'>4</a>\u001b[0m \u001b[39mimport\u001b[39;00m \u001b[39mjson\u001b[39;00m\n",
      "\u001b[1;31mModuleNotFoundError\u001b[0m: No module named 'authorization'"
     ]
    }
   ],
   "source": [
    "#imports\n",
    "import sys\n",
    "\n",
    "sys.path.append(\".\")\n",
    "from authorization import get_auth_header, get_token\n",
    "from requests import get\n",
    "import json\n",
    "import pandas as pd"
   ]
  },
  {
   "cell_type": "markdown",
   "metadata": {},
   "source": [
    "https://prod.liveshare.vsengsaas.visualstudio.com/join?08C2D31C296BBDC434B7DAF929AA8A622E71"
   ]
  },
  {
   "cell_type": "code",
   "execution_count": 5,
   "metadata": {},
   "outputs": [],
   "source": [
    "#write a function to get the top 20 artists in the pop genre using the spotify api example\n",
    "def get_top_artists():\n",
    "    #get the token\n",
    "    token = get_token()\n",
    "    #get the header\n",
    "    header = get_auth_header(token)\n",
    "    #get the url\n",
    "    url = \"https://api.spotify.com/v1/search?q=genre:%22pop%22&type=artist&limit=20\"\n",
    "    #get the response\n",
    "    response = get(url, headers=header)\n",
    "    #convert to json\n",
    "    json_response = response.json()\n",
    "    #get the artists\n",
    "    artists = json_response['artists']['items']\n",
    "    #return the artists\n",
    "    return artists"
   ]
  },
  {
   "cell_type": "code",
   "execution_count": 47,
   "metadata": {},
   "outputs": [],
   "source": [
    "df = pd.json_normalize(get_top_artists())"
   ]
  },
  {
   "cell_type": "code",
   "execution_count": 124,
   "metadata": {},
   "outputs": [],
   "source": [
    "def get_song_from_playlist(playlist):\n",
    "    token = get_token()\n",
    "    header = get_auth_header(token)\n",
    "    url = \"https://api.spotify.com/v1/playlists/\" + playlist + \"/tracks?market=US&limit=100&offset=100\"\n",
    "    response = get(url, headers=header)\n",
    "    json_response = response.json()\n",
    "    songs = json_response['items']\n",
    "    df1 = pd.json_normalize(songs) #created dataframe with all data/columns\n",
    "    df2 = df1[['track.uri', \"track.name\"]] #creates anotehr df with only the track names\n",
    "    df2['track.uri'] = df2['track.uri'].str.replace(\"spotify:track:\", \"\")\n",
    "    return df2 #pd.DataFrame(df2) #return df with track names"
   ]
  },
  {
   "cell_type": "code",
   "execution_count": 126,
   "metadata": {},
   "outputs": [
    {
     "name": "stderr",
     "output_type": "stream",
     "text": [
      "C:\\Users\\reddy\\AppData\\Local\\Temp\\ipykernel_21624\\2409121500.py:10: SettingWithCopyWarning: \n",
      "A value is trying to be set on a copy of a slice from a DataFrame.\n",
      "Try using .loc[row_indexer,col_indexer] = value instead\n",
      "\n",
      "See the caveats in the documentation: https://pandas.pydata.org/pandas-docs/stable/user_guide/indexing.html#returning-a-view-versus-a-copy\n",
      "  df2['track.uri'] = df2['track.uri'].str.replace(\"spotify:track:\", \"\")\n"
     ]
    },
    {
     "data": {
      "text/html": [
       "<div>\n",
       "<style scoped>\n",
       "    .dataframe tbody tr th:only-of-type {\n",
       "        vertical-align: middle;\n",
       "    }\n",
       "\n",
       "    .dataframe tbody tr th {\n",
       "        vertical-align: top;\n",
       "    }\n",
       "\n",
       "    .dataframe thead th {\n",
       "        text-align: right;\n",
       "    }\n",
       "</style>\n",
       "<table border=\"1\" class=\"dataframe\">\n",
       "  <thead>\n",
       "    <tr style=\"text-align: right;\">\n",
       "      <th></th>\n",
       "      <th>track.uri</th>\n",
       "      <th>track.name</th>\n",
       "    </tr>\n",
       "  </thead>\n",
       "  <tbody>\n",
       "    <tr>\n",
       "      <th>0</th>\n",
       "      <td>4KTtYhxFtFL7mBwnjkKfLm</td>\n",
       "      <td>Glamorous</td>\n",
       "    </tr>\n",
       "    <tr>\n",
       "      <th>1</th>\n",
       "      <td>6u8txb92XRmzfURmKEdZcr</td>\n",
       "      <td>Empire State Of Mind</td>\n",
       "    </tr>\n",
       "    <tr>\n",
       "      <th>2</th>\n",
       "      <td>6naxalmIoLFWR0siv8dnQQ</td>\n",
       "      <td>Oops!...I Did It Again</td>\n",
       "    </tr>\n",
       "    <tr>\n",
       "      <th>3</th>\n",
       "      <td>0OaunKfsxkgBvPv68jBbmm</td>\n",
       "      <td>It Wasn't Me</td>\n",
       "    </tr>\n",
       "    <tr>\n",
       "      <th>4</th>\n",
       "      <td>5HQVUIKwCEXpe7JIHyY734</td>\n",
       "      <td>Young, Wild &amp; Free (feat. Bruno Mars)</td>\n",
       "    </tr>\n",
       "    <tr>\n",
       "      <th>...</th>\n",
       "      <td>...</td>\n",
       "      <td>...</td>\n",
       "    </tr>\n",
       "    <tr>\n",
       "      <th>62</th>\n",
       "      <td>0k6HUzaRHpQ3eEWr1C7Esh</td>\n",
       "      <td>Ms. New Booty</td>\n",
       "    </tr>\n",
       "    <tr>\n",
       "      <th>63</th>\n",
       "      <td>3CcvahnsiArpTHYQEWV2Au</td>\n",
       "      <td>Bring Em Out</td>\n",
       "    </tr>\n",
       "    <tr>\n",
       "      <th>64</th>\n",
       "      <td>4MMqj7HaLL8BphbBZnlsdq</td>\n",
       "      <td>I Like That</td>\n",
       "    </tr>\n",
       "    <tr>\n",
       "      <th>65</th>\n",
       "      <td>2TIGwYiQYr1N5zTOQToDfK</td>\n",
       "      <td>I'll Be Around (feat. Timbaland) - Club Mix</td>\n",
       "    </tr>\n",
       "    <tr>\n",
       "      <th>66</th>\n",
       "      <td>19UUPNx5jccGgQ2GCIZkww</td>\n",
       "      <td>Pop, Lock &amp; Drop It</td>\n",
       "    </tr>\n",
       "  </tbody>\n",
       "</table>\n",
       "<p>67 rows × 2 columns</p>\n",
       "</div>"
      ],
      "text/plain": [
       "                 track.uri                                   track.name\n",
       "0   4KTtYhxFtFL7mBwnjkKfLm                                    Glamorous\n",
       "1   6u8txb92XRmzfURmKEdZcr                         Empire State Of Mind\n",
       "2   6naxalmIoLFWR0siv8dnQQ                       Oops!...I Did It Again\n",
       "3   0OaunKfsxkgBvPv68jBbmm                                 It Wasn't Me\n",
       "4   5HQVUIKwCEXpe7JIHyY734        Young, Wild & Free (feat. Bruno Mars)\n",
       "..                     ...                                          ...\n",
       "62  0k6HUzaRHpQ3eEWr1C7Esh                                Ms. New Booty\n",
       "63  3CcvahnsiArpTHYQEWV2Au                                 Bring Em Out\n",
       "64  4MMqj7HaLL8BphbBZnlsdq                                  I Like That\n",
       "65  2TIGwYiQYr1N5zTOQToDfK  I'll Be Around (feat. Timbaland) - Club Mix\n",
       "66  19UUPNx5jccGgQ2GCIZkww                          Pop, Lock & Drop It\n",
       "\n",
       "[67 rows x 2 columns]"
      ]
     },
     "execution_count": 126,
     "metadata": {},
     "output_type": "execute_result"
    }
   ],
   "source": [
    "get_song_from_playlist(\"7fmD71MFQJNVwWFAho5aPV\")"
   ]
  },
  {
   "cell_type": "code",
   "execution_count": null,
   "metadata": {},
   "outputs": [],
   "source": [
    "playlist_ids = [\"37i9dQZF1DX7e8TjkFNKWH\", \"4vKtucORuHzl3bhnUWMMbq\", \"54nOF0dt7yuHMBK1cLjFCk\",\n",
    "                  \"1q4yqfWq8DQ9k8xvpwjSGb\", \"66bd2w90q5RXlfUnTIF1W3\", \"2Hy1V8q07RL4ygQtatadve\", \n",
    "                  \"33P9WHZFJArsEEb0q8zwJD\", \"3EoStzWMnc93ktTEZYsSD4\", \"5KlUhhSR7sZOdl8Hxy3Guz\", \n",
    "                  \"6ebBexShOwJOfK9UIdzNIm\",]\n",
    "songs_list = pd.DataFrame()\n",
    "for i in range (len(playlist_ids)):\n",
    "    playlist_songs = get_song_from_playlist(playlist_ids[i])\n",
    "    songs_list = pd.concat([songs_list, playlist_songs])\n",
    "songs_list\n",
    "    "
   ]
  },
  {
   "cell_type": "code",
   "execution_count": null,
   "metadata": {},
   "outputs": [],
   "source": [
    "songs_list = songs_list.drop_duplicates()\n",
    "\n",
    "songs_list"
   ]
  },
  {
   "cell_type": "code",
   "execution_count": null,
   "metadata": {},
   "outputs": [],
   "source": [
    "#songs_list = songs_list.sort_values(by=['track.name'])\n",
    "songs_list"
   ]
  },
  {
   "cell_type": "code",
   "execution_count": null,
   "metadata": {},
   "outputs": [],
   "source": [
    "songs_list.to_csv('songs_list.csv', index=False)"
   ]
  },
  {
   "cell_type": "markdown",
   "metadata": {},
   "source": [
    "Non Bangers - 1. convert all songs into respectove artists 2. get genres of all artist and track frequency \n",
    "3. most frquent genres, get most sample of regular songs, 4. do analysis on those songs"
   ]
  },
  {
   "cell_type": "code",
   "execution_count": 26,
   "metadata": {},
   "outputs": [
    {
     "data": {
      "text/plain": [
       "['dance pop', 'pop']"
      ]
     },
     "execution_count": 26,
     "metadata": {},
     "output_type": "execute_result"
    }
   ],
   "source": [
    "def get_artist_from_song(song):\n",
    "    header = get_auth_header()\n",
    "    url = f\"https://api.spotify.com/v1/tracks/{song}\"\n",
    "    response = get(url, headers=header)\n",
    "    json_response = response.json()\n",
    "    artist_id = json_response['artists'][0]['uri']\n",
    "    artist_id = artist_id.replace(\"spotify:artist:\", \"\")\n",
    "    return artist_id \n",
    "\n",
    "def get_genre_from_artist(artist):\n",
    "    header = get_auth_header()\n",
    "    url = f\"https://api.spotify.com/v1/artists/{artist}\"\n",
    "    response = get(url, headers=header)\n",
    "    json_response = response.json()\n",
    "    genres = json_response['genres']\n",
    "    return genres \n",
    "\n",
    "\n",
    "\n",
    "get_genre_from_artist(get_artist_from_song(\"4KTtYhxFtFL7mBwnjkKfLm\"))\n"
   ]
  },
  {
   "cell_type": "code",
   "execution_count": null,
   "metadata": {},
   "outputs": [],
   "source": []
  }
 ],
 "metadata": {
  "kernelspec": {
   "display_name": "base",
   "language": "python",
   "name": "python3"
  },
  "language_info": {
   "codemirror_mode": {
    "name": "ipython",
    "version": 3
   },
   "file_extension": ".py",
   "mimetype": "text/x-python",
   "name": "python",
   "nbconvert_exporter": "python",
   "pygments_lexer": "ipython3",
   "version": "3.9.12"
  },
  "orig_nbformat": 4
 },
 "nbformat": 4,
 "nbformat_minor": 2
}
